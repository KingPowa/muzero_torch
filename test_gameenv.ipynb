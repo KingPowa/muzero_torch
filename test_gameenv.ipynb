{
 "cells": [
  {
   "cell_type": "code",
   "execution_count": 1,
   "metadata": {},
   "outputs": [],
   "source": [
    "import torch\n",
    "import gym as g\n",
    "from gym import spaces\n",
    "from connect4 import *\n",
    "from envs import ConnectNEnv, AdvancedDiscreteEnv\n",
    "from networks.architecture import RepresentationNetwork, DynamicsNetwork, PredictionNetwork\n",
    "import numpy as np"
   ]
  },
  {
   "cell_type": "code",
   "execution_count": 2,
   "metadata": {},
   "outputs": [
    {
     "data": {
      "text/plain": [
       "(1, 1, 6, 7)"
      ]
     },
     "execution_count": 2,
     "metadata": {},
     "output_type": "execute_result"
    }
   ],
   "source": [
    "env = ConnectNEnv()\n",
    "env.single_obs_size"
   ]
  },
  {
   "cell_type": "code",
   "execution_count": 3,
   "metadata": {},
   "outputs": [],
   "source": [
    "from architecture.game import Game\n",
    "\n",
    "game = Game(env, 3)"
   ]
  },
  {
   "cell_type": "code",
   "execution_count": 6,
   "metadata": {},
   "outputs": [
    {
     "name": "stdout",
     "output_type": "stream",
     "text": [
      "False\n",
      "||---------------------||\n",
      "||| || || || || || || |||\n",
      "||---------------------||\n",
      "||| || || || || || || |||\n",
      "||---------------------||\n",
      "||| || || || || || || |||\n",
      "||---------------------||\n",
      "|||1||2|| || || || || |||\n",
      "||---------------------||\n",
      "|||1||2|| || || || || |||\n",
      "||---------------------||\n",
      "|||1||2|| || || || || |||\n",
      "ooooooooooooooooooooooooo\n"
     ]
    }
   ],
   "source": [
    "game.reset()\n",
    "game.step(action=0)\n",
    "game.step(action=1)\n",
    "game.step(action=0)\n",
    "game.step(action=1)\n",
    "game.step(action=0)\n",
    "game.step(action=1)\n",
    "print(game.terminal())\n",
    "game.present_game()"
   ]
  },
  {
   "cell_type": "code",
   "execution_count": 7,
   "metadata": {},
   "outputs": [],
   "source": [
    "game.step(action=0)"
   ]
  },
  {
   "cell_type": "code",
   "execution_count": 9,
   "metadata": {},
   "outputs": [
    {
     "data": {
      "text/plain": [
       "True"
      ]
     },
     "execution_count": 9,
     "metadata": {},
     "output_type": "execute_result"
    }
   ],
   "source": [
    "game.terminal()"
   ]
  }
 ],
 "metadata": {
  "kernelspec": {
   "display_name": "aienv",
   "language": "python",
   "name": "python3"
  },
  "language_info": {
   "codemirror_mode": {
    "name": "ipython",
    "version": 3
   },
   "file_extension": ".py",
   "mimetype": "text/x-python",
   "name": "python",
   "nbconvert_exporter": "python",
   "pygments_lexer": "ipython3",
   "version": "3.11.5"
  }
 },
 "nbformat": 4,
 "nbformat_minor": 2
}
